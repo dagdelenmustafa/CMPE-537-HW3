{
  "nbformat": 4,
  "nbformat_minor": 0,
  "metadata": {
    "colab": {
      "name": "DataAugmention.ipynb",
      "provenance": [],
      "collapsed_sections": []
    },
    "kernelspec": {
      "name": "python3",
      "display_name": "Python 3"
    }
  },
  "cells": [
    {
      "cell_type": "markdown",
      "metadata": {
        "id": "Uz_fGR60F_o_"
      },
      "source": [
        "#Data Augmentation"
      ]
    },
    {
      "cell_type": "markdown",
      "metadata": {
        "id": "cfPoiE-bkFSW"
      },
      "source": [
        "##Imports"
      ]
    },
    {
      "cell_type": "code",
      "metadata": {
        "id": "1AgpDMmVjnOs"
      },
      "source": [
        "import numpy as np\n",
        "import pandas as pd\n",
        "import matplotlib.pyplot as plt\n",
        "import seaborn as sns\n",
        "from PIL import Image\n",
        "import cv2\n",
        "\n",
        "from imutils import paths\n",
        "from collections import Counter\n",
        "\n",
        "from keras.preprocessing.image import ImageDataGenerator\n",
        "\n",
        "from google.colab import drive"
      ],
      "execution_count": null,
      "outputs": []
    },
    {
      "cell_type": "code",
      "metadata": {
        "colab": {
          "base_uri": "https://localhost:8080/"
        },
        "id": "DqFJPLqWgg-G",
        "outputId": "3984d8ed-0746-4011-b8d3-0062533cad87"
      },
      "source": [
        "drive.mount('/content/gdrive')\n",
        "root_path = 'gdrive/My Drive/Colab Notebooks/Image Classification/'\n",
        "\n",
        "training_dir = root_path + 'Caltech20/training/'\n",
        "dir = root_path + 'Aug/'\n",
        "aug_dir = root_path + 'yin_yang/'"
      ],
      "execution_count": null,
      "outputs": [
        {
          "output_type": "stream",
          "text": [
            "Drive already mounted at /content/gdrive; to attempt to forcibly remount, call drive.mount(\"/content/gdrive\", force_remount=True).\n"
          ],
          "name": "stdout"
        }
      ]
    },
    {
      "cell_type": "markdown",
      "metadata": {
        "id": "mQrzBuP7GnHW"
      },
      "source": [
        "##Functions"
      ]
    },
    {
      "cell_type": "code",
      "metadata": {
        "id": "7QiRsrXnGs_b"
      },
      "source": [
        "classes = ['airplanes',\n",
        " 'anchor',\n",
        " 'background_class',\n",
        " 'barrel',\n",
        " 'camera',\n",
        " 'car_side',\n",
        " 'dalmatian',\n",
        " 'Faces',\n",
        " 'ferry',\n",
        " 'headphone',\n",
        " 'lamp',\n",
        " 'pizza',\n",
        " 'pyramid',\n",
        " 'snoopy',\n",
        " 'soccer_ball',\n",
        " 'stop_sign',\n",
        " 'strawberry',\n",
        " 'sunflower',\n",
        " 'water_lilly',\n",
        " 'windsor_chair',\n",
        " 'yin_yang']"
      ],
      "execution_count": null,
      "outputs": []
    },
    {
      "cell_type": "code",
      "metadata": {
        "id": "MSr3EE1JGoWi"
      },
      "source": [
        "def dataset_prep(dir_path, classes):\n",
        "  \n",
        "  labels = []\n",
        "  X = []\n",
        "\n",
        "  for imagePath in paths.list_images(dir_path):\n",
        "    \n",
        "    image_class = imagePath.split(\"/\")[-2]\n",
        "\n",
        "    # img = Image.open(imagePath) \n",
        "    # image_array = np.asarray(img) \n",
        "    # X.append(image_array)\n",
        "\n",
        "    i = classes.index(image_class) + 1\n",
        "    labels.append(i)\n",
        "\n",
        "\n",
        "  return np.array(X), np.array(labels)"
      ],
      "execution_count": null,
      "outputs": []
    },
    {
      "cell_type": "markdown",
      "metadata": {
        "id": "acxdqf5eJt1s"
      },
      "source": [
        "##Image Generator"
      ]
    },
    {
      "cell_type": "code",
      "metadata": {
        "id": "mKkr0H0jG9HN"
      },
      "source": [
        "datagen = ImageDataGenerator(    \n",
        "    featurewise_center=False,\n",
        "    samplewise_center=False,\n",
        "    featurewise_std_normalization=False,\n",
        "    samplewise_std_normalization=False,\n",
        "    zca_whitening=False,\n",
        "    zca_epsilon=1e-06,\n",
        "    rotation_range=45,\n",
        "    width_shift_range=[-20,20],\n",
        "    height_shift_range=[-20,20],\n",
        "    brightness_range=[0.5,1.0],\n",
        "    shear_range=0.0,\n",
        "    zoom_range=[0.9,1.0],\n",
        "    channel_shift_range=0.0,\n",
        "    fill_mode=\"nearest\",\n",
        "    cval=0.0,\n",
        "    horizontal_flip=True,\n",
        "    vertical_flip=True,\n",
        "    rescale=None,\n",
        "    preprocessing_function=None,\n",
        "    data_format=None,\n",
        "    validation_split=0.0,\n",
        "    dtype=None)"
      ],
      "execution_count": null,
      "outputs": []
    },
    {
      "cell_type": "markdown",
      "metadata": {
        "id": "RJGwz9iYMqyR"
      },
      "source": [
        "###Single Image"
      ]
    },
    {
      "cell_type": "code",
      "metadata": {
        "id": "DC0rhe9tJoAn"
      },
      "source": [
        "  # imagePath = training_dir + 'strawberry/image_0130.jpg'\n",
        "  # img = Image.open(imagePath)\n",
        "  # image_array = np.asarray(img) \n",
        "  # samples = np.expand_dims(image_array, 0)\n",
        "  # print(samples.shape)"
      ],
      "execution_count": null,
      "outputs": []
    },
    {
      "cell_type": "code",
      "metadata": {
        "id": "9nqg7APvJxdY"
      },
      "source": [
        "# iter = datagen.flow(samples, batch_size=1)"
      ],
      "execution_count": null,
      "outputs": []
    },
    {
      "cell_type": "code",
      "metadata": {
        "id": "GdgFkraQKCuh"
      },
      "source": [
        "# for i in range(9):\n",
        "\t\n",
        "#   plt.subplot(330 + 1 + i)\n",
        "#   batch = iter.next()\n",
        "#   image = batch[0].astype('uint8')\n",
        "#   plt.imshow(image)\n",
        "\n",
        "# plt.show()"
      ],
      "execution_count": null,
      "outputs": []
    },
    {
      "cell_type": "markdown",
      "metadata": {
        "id": "A1VtxWWnG6cJ"
      },
      "source": [
        "##Dataset"
      ]
    },
    {
      "cell_type": "code",
      "metadata": {
        "id": "hMDxcI4GIT-L"
      },
      "source": [
        "X, y = dataset_prep(training_dir, classes)"
      ],
      "execution_count": null,
      "outputs": []
    },
    {
      "cell_type": "code",
      "metadata": {
        "colab": {
          "base_uri": "https://localhost:8080/"
        },
        "id": "6b0v9Wt2I9yd",
        "outputId": "088c79d3-fcde-415a-c91d-b4eec4c3051f"
      },
      "source": [
        "X.shape"
      ],
      "execution_count": null,
      "outputs": [
        {
          "output_type": "execute_result",
          "data": {
            "text/plain": [
              "(0,)"
            ]
          },
          "metadata": {
            "tags": []
          },
          "execution_count": 25
        }
      ]
    },
    {
      "cell_type": "code",
      "metadata": {
        "colab": {
          "base_uri": "https://localhost:8080/"
        },
        "id": "SXlEla2NIPxj",
        "outputId": "6a926892-36ce-41f7-dc82-8eedb67ea3cf"
      },
      "source": [
        "counter = Counter(y)\n",
        "print(counter)"
      ],
      "execution_count": null,
      "outputs": [
        {
          "output_type": "stream",
          "text": [
            "Counter({1: 780, 15: 640, 5: 600, 19: 555, 17: 520, 6: 515, 14: 485, 7: 470, 9: 470, 3: 467, 18: 454, 16: 440, 11: 410, 8: 405, 13: 370, 20: 360, 4: 270, 10: 203, 21: 200, 2: 165, 12: 165})\n"
          ],
          "name": "stdout"
        }
      ]
    },
    {
      "cell_type": "code",
      "metadata": {
        "colab": {
          "base_uri": "https://localhost:8080/"
        },
        "id": "UhJ9C7HkOwZc",
        "outputId": "8bb7787d-6d61-4495-f8f5-e33890229431"
      },
      "source": [
        "for i in range(1,22):\n",
        "  print(i, classes[i-1], '\\t',counter[i])"
      ],
      "execution_count": null,
      "outputs": [
        {
          "output_type": "stream",
          "text": [
            "1 airplanes \t 780\n",
            "2 anchor \t 165\n",
            "3 background_class \t 467\n",
            "4 barrel \t 270\n",
            "5 camera \t 600\n",
            "6 car_side \t 515\n",
            "7 dalmatian \t 470\n",
            "8 Faces \t 405\n",
            "9 ferry \t 470\n",
            "10 headphone \t 203\n",
            "11 lamp \t 410\n",
            "12 pizza \t 165\n",
            "13 pyramid \t 370\n",
            "14 snoopy \t 485\n",
            "15 soccer_ball \t 640\n",
            "16 stop_sign \t 440\n",
            "17 strawberry \t 520\n",
            "18 sunflower \t 454\n",
            "19 water_lilly \t 555\n",
            "20 windsor_chair \t 360\n",
            "21 yin_yang \t 200\n"
          ],
          "name": "stdout"
        }
      ]
    },
    {
      "cell_type": "code",
      "metadata": {
        "colab": {
          "base_uri": "https://localhost:8080/"
        },
        "id": "qzT2DQvqP-Bl",
        "outputId": "74d49931-563c-4a50-864a-73bf5cede054"
      },
      "source": [
        "iter = datagen.flow_from_directory(\n",
        "    dir, \n",
        "    batch_size=32,\n",
        "    shuffle=True,\n",
        "    seed=1234,\n",
        "    save_to_dir=aug_dir,\n",
        "    save_format='jpg',\n",
        "    save_prefix='aug')"
      ],
      "execution_count": null,
      "outputs": [
        {
          "output_type": "stream",
          "text": [
            "Found 40 images belonging to 1 classes.\n"
          ],
          "name": "stdout"
        }
      ]
    },
    {
      "cell_type": "code",
      "metadata": {
        "id": "bCQLHUZlUIdI"
      },
      "source": [
        "for i in range(20):\n",
        "  batch = iter.next()"
      ],
      "execution_count": null,
      "outputs": []
    },
    {
      "cell_type": "code",
      "metadata": {
        "id": "orYYFeo5QBJF"
      },
      "source": [
        "# for i in range(9):\n",
        "\t\n",
        "#   plt.subplot(330 + 1 + i)\n",
        "#   batch = iter.next()\n",
        "#   image = batch[0].astype('uint8')\n",
        "#   image = np.squeeze(image, axis=0)\n",
        "#   plt.imshow(image)\n",
        "\n",
        "# plt.show()"
      ],
      "execution_count": null,
      "outputs": []
    }
  ]
}