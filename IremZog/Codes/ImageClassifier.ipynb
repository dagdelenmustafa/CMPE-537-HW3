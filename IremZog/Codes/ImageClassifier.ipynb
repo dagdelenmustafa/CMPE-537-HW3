{
  "nbformat": 4,
  "nbformat_minor": 0,
  "metadata": {
    "colab": {
      "name": "ImageClassifier.ipynb",
      "provenance": [],
      "collapsed_sections": [
        "RGOJNo3eiepl"
      ]
    },
    "kernelspec": {
      "display_name": "Python 3",
      "name": "python3"
    }
  },
  "cells": [
    {
      "cell_type": "markdown",
      "metadata": {
        "id": "zHjHZ_MZjjIh"
      },
      "source": [
        "#Image Classifier using Local Descriptors"
      ]
    },
    {
      "cell_type": "markdown",
      "metadata": {
        "id": "cfPoiE-bkFSW"
      },
      "source": [
        "##Imports"
      ]
    },
    {
      "cell_type": "code",
      "metadata": {
        "id": "1AgpDMmVjnOs"
      },
      "source": [
        "import numpy as np\n",
        "import pandas as pd\n",
        "import matplotlib.pyplot as plt\n",
        "import seaborn as sns\n",
        "from PIL import Image\n",
        "import cv2\n",
        "\n",
        "import pickle\n",
        "\n",
        "from imutils import paths\n",
        "from collections import Counter\n",
        "\n",
        "from imblearn.under_sampling import NearMiss\n",
        "from imblearn.under_sampling import CondensedNearestNeighbour\n",
        "from imblearn.under_sampling import TomekLinks\n",
        "from imblearn.under_sampling import EditedNearestNeighbours\n",
        "from imblearn.under_sampling import RandomUnderSampler\n",
        "from imblearn.over_sampling import RandomOverSampler \n",
        "\n",
        "from skimage import feature\n",
        "from skimage import exposure\n",
        "\n",
        "import sklearn\n",
        "from sklearn.model_selection import GridSearchCV\n",
        "from sklearn.cluster import AgglomerativeClustering\n",
        "from sklearn.neural_network import MLPClassifier\n",
        "from sklearn.cluster import KMeans\n",
        "from sklearn.ensemble import RandomForestClassifier\n",
        "from sklearn.neighbors import KNeighborsClassifier\n",
        "from sklearn import metrics\n",
        "from sklearn.metrics import classification_report, roc_curve, auc, precision_recall_curve, confusion_matrix\n",
        "\n",
        "from google.colab import drive"
      ],
      "execution_count": 145,
      "outputs": []
    },
    {
      "cell_type": "code",
      "metadata": {
        "id": "MVzuqplf8dpn"
      },
      "source": [
        "# !pip3 freeze > requirements.txt"
      ],
      "execution_count": 146,
      "outputs": []
    },
    {
      "cell_type": "code",
      "metadata": {
        "colab": {
          "base_uri": "https://localhost:8080/"
        },
        "id": "DqFJPLqWgg-G",
        "outputId": "98c11d56-06ef-47cf-d62d-fd130d891003"
      },
      "source": [
        "drive.mount('/content/gdrive')\n",
        "root_path = 'gdrive/My Drive/Colab Notebooks/Image Classification/Caltech20/'\n",
        "\n",
        "training_dir = root_path + 'training/'\n",
        "test_dir = root_path + 'testing/'\n",
        "\n",
        "# !unzip 'gdrive/My Drive/Colab Notebooks/Image Classification/Caltech20.zip' -d 'gdrive/My Drive/Colab Notebooks/Image Classification/'"
      ],
      "execution_count": 147,
      "outputs": [
        {
          "output_type": "stream",
          "text": [
            "Drive already mounted at /content/gdrive; to attempt to forcibly remount, call drive.mount(\"/content/gdrive\", force_remount=True).\n"
          ],
          "name": "stdout"
        }
      ]
    },
    {
      "cell_type": "markdown",
      "metadata": {
        "id": "UxI4YL_QkILK"
      },
      "source": [
        "##Functions and Parameters"
      ]
    },
    {
      "cell_type": "code",
      "metadata": {
        "id": "1SjXEHKZYUyf"
      },
      "source": [
        "classes = ['airplanes',\n",
        " 'anchor',\n",
        " 'background_class',\n",
        " 'barrel',\n",
        " 'camera',\n",
        " 'car_side',\n",
        " 'dalmatian',\n",
        " 'Faces',\n",
        " 'ferry',\n",
        " 'headphone',\n",
        " 'lamp',\n",
        " 'pizza',\n",
        " 'pyramid',\n",
        " 'snoopy',\n",
        " 'soccer_ball',\n",
        " 'stop_sign',\n",
        " 'strawberry',\n",
        " 'sunflower',\n",
        " 'water_lilly',\n",
        " 'windsor_chair',\n",
        " 'yin_yang']"
      ],
      "execution_count": 148,
      "outputs": []
    },
    {
      "cell_type": "code",
      "metadata": {
        "id": "CP_OLqH_PLu4"
      },
      "source": [
        "def dataset_prep(dir_path, classes):\n",
        "  \n",
        "  labels = []\n",
        "  flag = 0\n",
        "\n",
        "  for imagePath in paths.list_images(dir_path):\n",
        "    \n",
        "    image_class = imagePath.split(\"/\")[-2]\n",
        "\n",
        "    img = Image.open(imagePath).convert('L') # To open image as gray scale\n",
        "    image_array = np.asarray(img) \n",
        "\n",
        "    #####\n",
        "    # resized = cv2.resize(image_array, (128,128))\n",
        "    # im_opencv = Image.fromarray(resized)\n",
        "    # H = feature.hog(im_opencv, orientations=9, \n",
        "    #                 pixels_per_cell=(8, 8), \n",
        "    #                 cells_per_block=(2, 2), \n",
        "    #                 transform_sqrt=False, \n",
        "    #                 block_norm=\"L2\")\n",
        "    # H = H.reshape([225,72])\n",
        "    #####\n",
        "    H = hog_calculator(image_array)\n",
        "\n",
        "    i = classes.index(image_class) + 1\n",
        "    labels.append(i)\n",
        "\n",
        "    if flag == 0:\n",
        "      flag = 1\n",
        "      descriptors = H.copy()\n",
        "    else:\n",
        "      descriptors = np.concatenate((descriptors, H), axis=0) \n",
        "\n",
        "  return labels, descriptors"
      ],
      "execution_count": 149,
      "outputs": []
    },
    {
      "cell_type": "markdown",
      "metadata": {
        "id": "w20PhfhNkNFF"
      },
      "source": [
        "###HOG Descriptor"
      ]
    },
    {
      "cell_type": "code",
      "metadata": {
        "id": "IT0nyutDznsS"
      },
      "source": [
        "def hog_calculator(image_array, block_size = (2, 2), cell_size = (8, 8), s=(128, 128), orientation=9):\n",
        "\n",
        "  eps = 1e-5 # For normalization\n",
        "\n",
        "  local_descriptors = []\n",
        "\n",
        "  n = int(s[0]//cell_size[0]) # number of cells in a row\n",
        "  m = int(s[1]//cell_size[1]) # number of cells in a column\n",
        "\n",
        "  block_n = n+1-block_size[0] # Number of blocks per row\n",
        "  block_m = m+1-block_size[1] # Number of blocks per column\n",
        "\n",
        "  # First step is to resize the image into 128x256 size\n",
        "  resized_image = cv2.resize(image_array, s)\n",
        "  im = Image.fromarray(resized_image)\n",
        "\n",
        "  histogram_matrix = np.zeros((n, m, orientation))\n",
        "\n",
        "  for j in range(m):\n",
        "    for i in range(n):\n",
        "\n",
        "      # Boundaries of a cell\n",
        "      cell_x_0 = i*cell_size[0]\n",
        "      cell_x_1 = (i+1)*cell_size[0]\n",
        "      cell_y_0 = j*cell_size[1]\n",
        "      cell_y_1 = (j+1)*cell_size[1]\n",
        "\n",
        "      cell = resized_image[cell_y_0:cell_y_1, cell_x_0:cell_x_1]\n",
        "      magnitudes = np.zeros(cell.shape)\n",
        "      orients = np.zeros(cell.shape)\n",
        "\n",
        "      cell = cell.astype(np.int32)\n",
        "      cell_row, cell_col = cell.shape\n",
        "\n",
        "      y_grad = np.zeros(cell.shape, dtype=np.double)\n",
        "      x_grad = np.zeros(cell.shape, dtype=np.double)\n",
        "\n",
        "      y_grad[1:-1,:] = cell[2:, :] - cell[:-2, :]\n",
        "      x_grad[:,1:-1] = cell[:,2:] - cell[:,:-2]\n",
        "\n",
        "      magnitudes = np.sqrt(x_grad**2 + y_grad**2)\n",
        "      orients = np.degrees(np.arctan2(y_grad, x_grad)) % 180 # According to the paper\n",
        "\n",
        "      bins = np.arange(10, 190, 20) #If orientation != 9 change this \n",
        "      hist = np.zeros(bins.shape)\n",
        "\n",
        "      # Turning gradients and orientations into histogram\n",
        "      for row in range(cell_row):\n",
        "        for col in range(cell_col):\n",
        "\n",
        "          angle = orients[row,col]\n",
        "          mag = magnitudes[row,col]\n",
        "\n",
        "          position = np.argmax(bins > angle) % 9\n",
        "          hist[position-1] += (((bins[position] - angle)%180)/20)*mag\n",
        "          hist[position] += (((angle - bins[position-1])%180)/20)*mag\n",
        "\n",
        "      histogram_matrix[i, j] = hist\n",
        "\n",
        "  for i in range(block_n): \n",
        "    for j in range(block_m): \n",
        "      block_array = np.concatenate((histogram_matrix[i, j],histogram_matrix[i+1, j], histogram_matrix[i, j+1], histogram_matrix[i+1, j+1]))\n",
        "\n",
        "      #L2 Normalization \n",
        "      norm = np.sqrt(np.sum(block_array ** 2) + eps ** 2) \n",
        "      block_array = block_array/norm\n",
        "    \n",
        "      local_descriptors.append(block_array)\n",
        "\n",
        "  # H = np.array(local_descriptors)\n",
        "  H = np.array(local_descriptors).flatten()\n",
        "  H_norm = np.sqrt(np.sum(H ** 2) + eps ** 2)\n",
        "  H = H/H_norm\n",
        "  H = H.reshape([block_n*block_m,36])\n",
        "\n",
        "  return H"
      ],
      "execution_count": 150,
      "outputs": []
    },
    {
      "cell_type": "code",
      "metadata": {
        "colab": {
          "base_uri": "https://localhost:8080/",
          "height": 69
        },
        "id": "QD3xd-Ziu-nZ",
        "outputId": "a9d92154-509e-4a9f-fabd-eaea474d1c23"
      },
      "source": [
        "\n",
        "'''cell = np.pad(cell, 1 , mode='constant')\n",
        "\n",
        "      # Compute gradients and orientations\n",
        "      for k in range(1, cell_row+1):\n",
        "        for l in range(1, cell_col+1):\n",
        "\n",
        "          y_grad = cell[k+1,l] - cell[k-1, l]\n",
        "          x_grad = cell[k, l+1] - cell[k, l-1]\n",
        "          magnitudes[k-1,l-1] = np.sqrt(x_grad**2 + y_grad**2)\n",
        "          orients[k-1,l-1] = np.degrees(np.arctan2(y_grad, x_grad)) % 180 # According to the paper '''"
      ],
      "execution_count": 152,
      "outputs": [
        {
          "output_type": "execute_result",
          "data": {
            "application/vnd.google.colaboratory.intrinsic+json": {
              "type": "string"
            },
            "text/plain": [
              "\"cell = np.pad(cell, 1 , mode='constant')\\n\\n      # Compute gradients and orientations\\n      for k in range(1, cell_row+1):\\n        for l in range(1, cell_col+1):\\n\\n          y_grad = cell[k+1,l] - cell[k-1, l]\\n          x_grad = cell[k, l+1] - cell[k, l-1]\\n          magnitudes[k-1,l-1] = np.sqrt(x_grad**2 + y_grad**2)\\n          orients[k-1,l-1] = np.degrees(np.arctan2(y_grad, x_grad)) % 180 # According to the paper \""
            ]
          },
          "metadata": {
            "tags": []
          },
          "execution_count": 152
        }
      ]
    },
    {
      "cell_type": "markdown",
      "metadata": {
        "id": "bCM_xFW4zjlR"
      },
      "source": [
        "###HOG Visualization"
      ]
    },
    {
      "cell_type": "code",
      "metadata": {
        "id": "YbdPr97CARV0"
      },
      "source": [
        "# imgPath = training_dir + 'airplanes/image_0002.jpg'\n",
        "# img = Image.open(imgPath).convert('L')\n",
        "# image_array = np.asarray(img)\n",
        "\n",
        "# resized = cv2.resize(image_array, (128,128))\n",
        "# im_opencv = Image.fromarray(resized)\n",
        "# H = feature.hog(im_opencv, orientations=9, \n",
        "#                 pixels_per_cell=(8, 8), \n",
        "#                 cells_per_block=(2, 2), \n",
        "#                 transform_sqrt=False, \n",
        "#                 block_norm=\"L2\")\n",
        "\n",
        "# H2 = hog_calculator(image_array)\n",
        "# H = H.reshape([225,36])\n",
        "# distance = np.linalg.norm((H - H2), axis=1)\n",
        "# print(distance)\n"
      ],
      "execution_count": null,
      "outputs": []
    },
    {
      "cell_type": "markdown",
      "metadata": {
        "id": "dwMGFhqjkXkk"
      },
      "source": [
        "###Dictionary - Hierarchical Clustering & K-means"
      ]
    },
    {
      "cell_type": "code",
      "metadata": {
        "id": "e5O0qC_fdj4s"
      },
      "source": [
        "def hierarchical_clustering(descriptors, cluster_size):\n",
        "  cluster = AgglomerativeClustering(n_clusters=cluster_size, affinity='euclidean', linkage='ward')\n",
        "  cluster.fit_predict(descriptors)\n",
        "  return cluster.labels_"
      ],
      "execution_count": 153,
      "outputs": []
    },
    {
      "cell_type": "code",
      "metadata": {
        "id": "AYe4i144ROle"
      },
      "source": [
        "def kmeans_clustering(descriptors, cluster_size, seed):\n",
        "  kmeans = KMeans(n_clusters=cluster_size, max_iter=100,  random_state=seed)\n",
        "  kmeans.fit(descriptors)\n",
        "  return kmeans, kmeans.labels_"
      ],
      "execution_count": 154,
      "outputs": []
    },
    {
      "cell_type": "markdown",
      "metadata": {
        "id": "RWfMCnv3gtwm"
      },
      "source": [
        "###Quantization"
      ]
    },
    {
      "cell_type": "code",
      "metadata": {
        "id": "9DPwt67hgwdx"
      },
      "source": [
        "def bag_of_visual_words(clusters, cluster_size, descriptor_size):\n",
        "\n",
        "  X = []\n",
        "  n = clusters.shape[0]\n",
        "  image_number = int(n/descriptor_size)\n",
        "\n",
        "  for i in range(image_number):\n",
        "    hist = np.zeros(cluster_size)\n",
        "    clusters_i = clusters[i*descriptor_size:(i+1)*descriptor_size] \n",
        "\n",
        "    for j in range(cluster_size):\n",
        "      hist[j]  = np.count_nonzero(clusters_i == j)\n",
        "      \n",
        "    hist = hist/descriptor_size\n",
        "    X.append(hist)\n",
        "\n",
        "  return X"
      ],
      "execution_count": 155,
      "outputs": []
    },
    {
      "cell_type": "markdown",
      "metadata": {
        "id": "hRloiLgDRtPY"
      },
      "source": [
        "###Parameters"
      ]
    },
    {
      "cell_type": "code",
      "metadata": {
        "id": "o9th8RZYATeg"
      },
      "source": [
        "seed = 1234\n",
        "cluster_size = 50\n",
        "image_resize = (128, 128)\n",
        "descriptor_size = int((image_resize[0]/8-1)*(image_resize[1]/8-1))"
      ],
      "execution_count": 156,
      "outputs": []
    },
    {
      "cell_type": "markdown",
      "metadata": {
        "id": "BhMxWTDVMfIA"
      },
      "source": [
        "##Dataset Prep"
      ]
    },
    {
      "cell_type": "markdown",
      "metadata": {
        "id": "yaoGvoZdXy3K"
      },
      "source": [
        "###Training Data"
      ]
    },
    {
      "cell_type": "code",
      "metadata": {
        "id": "wGZwUTRjMhRs"
      },
      "source": [
        "labels, descriptors = dataset_prep(training_dir, classes)"
      ],
      "execution_count": 157,
      "outputs": []
    },
    {
      "cell_type": "code",
      "metadata": {
        "id": "8Zv_rKVXQ6GS"
      },
      "source": [
        "kmeans, clusters = kmeans_clustering(descriptors, cluster_size, seed)"
      ],
      "execution_count": 158,
      "outputs": []
    },
    {
      "cell_type": "code",
      "metadata": {
        "id": "OTrcRjD2he2G"
      },
      "source": [
        "X = bag_of_visual_words(clusters, cluster_size, descriptor_size)\n",
        "y_train = labels"
      ],
      "execution_count": 159,
      "outputs": []
    },
    {
      "cell_type": "code",
      "metadata": {
        "colab": {
          "base_uri": "https://localhost:8080/"
        },
        "id": "jXAwOMvoQGHu",
        "outputId": "fa44b8b0-157c-4149-f66c-4d6b432e4f8e"
      },
      "source": [
        "counter = Counter(labels)\n",
        "print(counter)"
      ],
      "execution_count": 160,
      "outputs": [
        {
          "output_type": "stream",
          "text": [
            "Counter({1: 780, 15: 640, 5: 600, 19: 555, 17: 520, 6: 515, 14: 485, 7: 470, 9: 470, 3: 467, 18: 454, 16: 440, 11: 410, 8: 405, 13: 370, 20: 360, 4: 270, 10: 203, 21: 200, 2: 165, 12: 165})\n"
          ],
          "name": "stdout"
        }
      ]
    },
    {
      "cell_type": "code",
      "metadata": {
        "id": "zEMDn5hMwF5i"
      },
      "source": [
        "under_str = {1:400, 3:400, 5: 400, 6:400, 7:400, 9:400, 14:400, 15:400, 17:400, 19:400}\n",
        "# over_str = {2:500, 4:500, 10:500, 12:400}"
      ],
      "execution_count": 161,
      "outputs": []
    },
    {
      "cell_type": "code",
      "metadata": {
        "id": "I3nq7YnLJgWc"
      },
      "source": [
        "# oversample = RandomOverSampler(sampling_strategy=over_str)\n",
        "# X_over, y_over = oversample.fit_resample(X, labels)"
      ],
      "execution_count": 162,
      "outputs": []
    },
    {
      "cell_type": "code",
      "metadata": {
        "colab": {
          "base_uri": "https://localhost:8080/"
        },
        "id": "S2l3cNECQMg9",
        "outputId": "f0eded33-088c-4796-fe82-21bdff0f7320"
      },
      "source": [
        "# undersample = NearMiss(version=1, n_neighbors=3)\n",
        "# undersample = CondensedNearestNeighbour(n_neighbors=3)\n",
        "# undersample = TomekLinks(sampling_strategy='majority')\n",
        "undersample = RandomUnderSampler(sampling_strategy=under_str)\n",
        "\n",
        "X_train, y_train = undersample.fit_resample(X, labels)"
      ],
      "execution_count": 163,
      "outputs": [
        {
          "output_type": "stream",
          "text": [
            "/usr/local/lib/python3.6/dist-packages/sklearn/utils/deprecation.py:87: FutureWarning: Function safe_indexing is deprecated; safe_indexing is deprecated in version 0.22 and will be removed in version 0.24.\n",
            "  warnings.warn(msg, category=FutureWarning)\n"
          ],
          "name": "stderr"
        }
      ]
    },
    {
      "cell_type": "code",
      "metadata": {
        "colab": {
          "base_uri": "https://localhost:8080/"
        },
        "id": "IpriKTzfVAPJ",
        "outputId": "e610700d-4ce9-4a43-d11d-6372e9e07dff"
      },
      "source": [
        "counter_undersampled = Counter(y_train)\n",
        "for i in range(1,22):\n",
        "  print(i, classes[i-1], '\\t',counter_undersampled[i])"
      ],
      "execution_count": 164,
      "outputs": [
        {
          "output_type": "stream",
          "text": [
            "1 airplanes \t 400\n",
            "2 anchor \t 165\n",
            "3 background_class \t 400\n",
            "4 barrel \t 270\n",
            "5 camera \t 400\n",
            "6 car_side \t 400\n",
            "7 dalmatian \t 400\n",
            "8 Faces \t 405\n",
            "9 ferry \t 400\n",
            "10 headphone \t 203\n",
            "11 lamp \t 410\n",
            "12 pizza \t 165\n",
            "13 pyramid \t 370\n",
            "14 snoopy \t 400\n",
            "15 soccer_ball \t 400\n",
            "16 stop_sign \t 440\n",
            "17 strawberry \t 400\n",
            "18 sunflower \t 454\n",
            "19 water_lilly \t 400\n",
            "20 windsor_chair \t 360\n",
            "21 yin_yang \t 200\n"
          ],
          "name": "stdout"
        }
      ]
    },
    {
      "cell_type": "code",
      "metadata": {
        "colab": {
          "base_uri": "https://localhost:8080/"
        },
        "id": "kN8mQ4IgjnbA",
        "outputId": "376d487f-65cb-4a23-832f-997bc78b2cfc"
      },
      "source": [
        "s = set(counter_undersampled)\n",
        "print(s)"
      ],
      "execution_count": 165,
      "outputs": [
        {
          "output_type": "stream",
          "text": [
            "{1, 2, 3, 4, 5, 6, 7, 8, 9, 10, 11, 12, 13, 14, 15, 16, 17, 18, 19, 20, 21}\n"
          ],
          "name": "stdout"
        }
      ]
    },
    {
      "cell_type": "markdown",
      "metadata": {
        "id": "-P-zOXBmX1pN"
      },
      "source": [
        "###Test Data"
      ]
    },
    {
      "cell_type": "code",
      "metadata": {
        "id": "je_xdtjOTZsm"
      },
      "source": [
        "y_test , X_test = dataset_prep(test_dir, classes)"
      ],
      "execution_count": 166,
      "outputs": []
    },
    {
      "cell_type": "code",
      "metadata": {
        "id": "_Bma7MkCYHMG"
      },
      "source": [
        "test_clusters = kmeans.predict(X_test)"
      ],
      "execution_count": 167,
      "outputs": []
    },
    {
      "cell_type": "code",
      "metadata": {
        "id": "YU1dVfW5YPIf"
      },
      "source": [
        "X_test = bag_of_visual_words(test_clusters, cluster_size, descriptor_size)"
      ],
      "execution_count": 168,
      "outputs": []
    },
    {
      "cell_type": "markdown",
      "metadata": {
        "id": "nZilR_1wkeRn"
      },
      "source": [
        "##Classifier - Random Forest"
      ]
    },
    {
      "cell_type": "code",
      "metadata": {
        "colab": {
          "base_uri": "https://localhost:8080/"
        },
        "id": "XfbhovlqP5bv",
        "outputId": "e65637e0-f37b-461a-ad20-355dd9250b69"
      },
      "source": [
        "modelRF = RandomForestClassifier(criterion='gini', \n",
        "                                 oob_score=True, \n",
        "                                 random_state=seed, \n",
        "                                 bootstrap= True, \n",
        "                                 max_depth=50, \n",
        "                                 max_features='auto', \n",
        "                                 min_samples_leaf= 1, \n",
        "                                 min_samples_split=5, \n",
        "                                 n_estimators=800)\n",
        "modelRF.fit(X_train, y_train)"
      ],
      "execution_count": 169,
      "outputs": [
        {
          "output_type": "execute_result",
          "data": {
            "text/plain": [
              "RandomForestClassifier(bootstrap=True, ccp_alpha=0.0, class_weight=None,\n",
              "                       criterion='gini', max_depth=50, max_features='auto',\n",
              "                       max_leaf_nodes=None, max_samples=None,\n",
              "                       min_impurity_decrease=0.0, min_impurity_split=None,\n",
              "                       min_samples_leaf=1, min_samples_split=5,\n",
              "                       min_weight_fraction_leaf=0.0, n_estimators=800,\n",
              "                       n_jobs=None, oob_score=True, random_state=1234,\n",
              "                       verbose=0, warm_start=False)"
            ]
          },
          "metadata": {
            "tags": []
          },
          "execution_count": 169
        }
      ]
    },
    {
      "cell_type": "code",
      "metadata": {
        "colab": {
          "base_uri": "https://localhost:8080/"
        },
        "id": "8Mp4djxNWJDk",
        "outputId": "d545b5a0-fd92-4fcb-8c93-4831156d3675"
      },
      "source": [
        "print(modelRF.score(X_test, y_test))\n",
        "print(modelRF.oob_score_)"
      ],
      "execution_count": 170,
      "outputs": [
        {
          "output_type": "stream",
          "text": [
            "0.4131578947368421\n",
            "0.5937919914001613\n"
          ],
          "name": "stdout"
        }
      ]
    },
    {
      "cell_type": "code",
      "metadata": {
        "id": "nvIjmJYEFBtQ"
      },
      "source": [
        "parameters = {'criterion' : ['gini'],\n",
        "              'bootstrap': [True],\n",
        "              'max_depth': [10, 20, 40, 80, None],\n",
        "              'max_features': ['auto', 'sqrt'],\n",
        "              'min_samples_leaf': [1, 2, 4],\n",
        "              'min_samples_split': [2, 5, 10],\n",
        "              'n_estimators': [100, 200, 400]}\n",
        "\n",
        "# RF = RandomForestClassifier(random_state=seed)"
      ],
      "execution_count": 171,
      "outputs": []
    },
    {
      "cell_type": "code",
      "metadata": {
        "id": "MTLBUghIFCbd"
      },
      "source": [
        "# gridsearch = GridSearchCV(RF, parameters, refit='AUC')\n",
        "# gridsearch.fit(X_train, y_train)"
      ],
      "execution_count": 172,
      "outputs": []
    },
    {
      "cell_type": "code",
      "metadata": {
        "id": "rA-pyVFfp3QE"
      },
      "source": [
        "# parameters = {'criterion' : ['gini'],\n",
        "#               'bootstrap': [True],\n",
        "#               'max_depth': [5, 10, 50, 100],\n",
        "#               'n_estimators': [400, 600, 800]}\n",
        "\n",
        "# RF = RandomForestClassifier(random_state=seed)"
      ],
      "execution_count": 173,
      "outputs": []
    },
    {
      "cell_type": "code",
      "metadata": {
        "id": "XGgsVoNnp6hn"
      },
      "source": [
        "# gridsearch = GridSearchCV(RF, parameters, refit='f1_macro')\n",
        "# gridsearch.fit(X_train, y_train)"
      ],
      "execution_count": 174,
      "outputs": []
    },
    {
      "cell_type": "code",
      "metadata": {
        "id": "4sSzCe5BFlvL"
      },
      "source": [
        "# gridsearch.best_params_"
      ],
      "execution_count": 175,
      "outputs": []
    },
    {
      "cell_type": "markdown",
      "metadata": {
        "id": "7383A1SBkmEE"
      },
      "source": [
        "###Performance Evaluation - RF"
      ]
    },
    {
      "cell_type": "code",
      "metadata": {
        "colab": {
          "base_uri": "https://localhost:8080/",
          "height": 344
        },
        "id": "tpGzIftfWVgZ",
        "outputId": "01e5a0f7-3569-4cf8-c3c3-aac2e0205076"
      },
      "source": [
        "RF_predictions = modelRF.predict(X_test)\n",
        "hmap = sns.heatmap(metrics.confusion_matrix(y_test, RF_predictions) , cmap='Blues', xticklabels=classes, yticklabels=classes)"
      ],
      "execution_count": 176,
      "outputs": [
        {
          "output_type": "display_data",
          "data": {
            "image/png": "[encoded data removed]",
            "text/plain": [
              "<Figure size 432x288 with 2 Axes>"
            ]
          },
          "metadata": {
            "tags": [],
            "needs_background": "light"
          }
        }
      ]
    },
    {
      "cell_type": "code",
      "metadata": {
        "colab": {
          "base_uri": "https://localhost:8080/"
        },
        "id": "wEMFzpi-bvQk",
        "outputId": "93d2fda2-8286-48ee-eae3-4fca84de4420"
      },
      "source": [
        "print(classification_report(y_test, RF_predictions, target_names=classes))"
      ],
      "execution_count": 177,
      "outputs": [
        {
          "output_type": "stream",
          "text": [
            "                  precision    recall  f1-score   support\n",
            "\n",
            "       airplanes       0.40      0.70      0.51        20\n",
            "          anchor       0.71      0.25      0.37        20\n",
            "background_class       0.00      0.00      0.00         0\n",
            "          barrel       0.00      0.00      0.00        20\n",
            "          camera       0.45      0.25      0.32        20\n",
            "        car_side       0.68      0.85      0.76        20\n",
            "       dalmatian       0.47      0.35      0.40        20\n",
            "           Faces       0.35      0.95      0.51        20\n",
            "           ferry       0.59      0.65      0.62        20\n",
            "       headphone       0.64      0.35      0.45        20\n",
            "            lamp       0.12      0.05      0.07        20\n",
            "           pizza       1.00      0.20      0.33        20\n",
            "         pyramid       0.48      0.60      0.53        20\n",
            "          snoopy       0.30      0.40      0.34        20\n",
            "     soccer_ball       0.00      0.00      0.00         0\n",
            "       stop_sign       0.77      0.50      0.61        20\n",
            "      strawberry       0.37      0.35      0.36        20\n",
            "       sunflower       0.39      0.55      0.46        20\n",
            "     water_lilly       0.50      0.15      0.23        20\n",
            "   windsor_chair       0.78      0.35      0.48        20\n",
            "        yin_yang       0.88      0.35      0.50        20\n",
            "\n",
            "        accuracy                           0.41       380\n",
            "       macro avg       0.47      0.37      0.37       380\n",
            "    weighted avg       0.52      0.41      0.41       380\n",
            "\n"
          ],
          "name": "stdout"
        },
        {
          "output_type": "stream",
          "text": [
            "/usr/local/lib/python3.6/dist-packages/sklearn/metrics/_classification.py:1272: UndefinedMetricWarning: Precision and F-score are ill-defined and being set to 0.0 in labels with no predicted samples. Use `zero_division` parameter to control this behavior.\n",
            "  _warn_prf(average, modifier, msg_start, len(result))\n",
            "/usr/local/lib/python3.6/dist-packages/sklearn/metrics/_classification.py:1272: UndefinedMetricWarning: Recall and F-score are ill-defined and being set to 0.0 in labels with no true samples. Use `zero_division` parameter to control this behavior.\n",
            "  _warn_prf(average, modifier, msg_start, len(result))\n"
          ],
          "name": "stderr"
        }
      ]
    },
    {
      "cell_type": "markdown",
      "metadata": {
        "id": "RGOJNo3eiepl"
      },
      "source": [
        "##MLP"
      ]
    },
    {
      "cell_type": "code",
      "metadata": {
        "colab": {
          "base_uri": "https://localhost:8080/"
        },
        "id": "lc_L3K3oifyv",
        "outputId": "2d421953-de3c-4a35-d24f-0678d52ca7fd"
      },
      "source": [
        "mlp = MLPClassifier(random_state=1, max_iter=300).fit(X_train, y_train)"
      ],
      "execution_count": 178,
      "outputs": [
        {
          "output_type": "stream",
          "text": [
            "/usr/local/lib/python3.6/dist-packages/sklearn/neural_network/_multilayer_perceptron.py:571: ConvergenceWarning: Stochastic Optimizer: Maximum iterations (300) reached and the optimization hasn't converged yet.\n",
            "  % self.max_iter, ConvergenceWarning)\n"
          ],
          "name": "stderr"
        }
      ]
    },
    {
      "cell_type": "code",
      "metadata": {
        "colab": {
          "base_uri": "https://localhost:8080/"
        },
        "id": "rFAHfUA6iqnA",
        "outputId": "6d6481e3-57c7-4ec9-8390-df672eca38df"
      },
      "source": [
        "mlp.score(X_test, y_test)"
      ],
      "execution_count": 179,
      "outputs": [
        {
          "output_type": "execute_result",
          "data": {
            "text/plain": [
              "0.4105263157894737"
            ]
          },
          "metadata": {
            "tags": []
          },
          "execution_count": 179
        }
      ]
    },
    {
      "cell_type": "code",
      "metadata": {
        "colab": {
          "base_uri": "https://localhost:8080/",
          "height": 0
        },
        "id": "_a1r9YxErYLP",
        "outputId": "67ca8d0a-e8e8-4b8e-e490-c59d8813e3c9"
      },
      "source": [
        "MLP_predictions = mlp.predict(X_test)\n",
        "hmap = sns.heatmap(metrics.confusion_matrix(y_test, MLP_predictions) , cmap='Blues', xticklabels=classes, yticklabels=classes)"
      ],
      "execution_count": 180,
      "outputs": [
        {
          "output_type": "display_data",
          "data": {
            "image/png": "[encoded data removed]",
            "text/plain": [
              "<Figure size 432x288 with 2 Axes>"
            ]
          },
          "metadata": {
            "tags": [],
            "needs_background": "light"
          }
        }
      ]
    },
    {
      "cell_type": "code",
      "metadata": {
        "colab": {
          "base_uri": "https://localhost:8080/"
        },
        "id": "HDzFM-FYrmIV",
        "outputId": "3f4e9267-040d-4593-81d1-945be77ac2b5"
      },
      "source": [
        "print(classification_report(y_test, MLP_predictions, target_names=classes))"
      ],
      "execution_count": 181,
      "outputs": [
        {
          "output_type": "stream",
          "text": [
            "                  precision    recall  f1-score   support\n",
            "\n",
            "       airplanes       0.37      0.80      0.51        20\n",
            "          anchor       0.40      0.40      0.40        20\n",
            "background_class       0.00      0.00      0.00         0\n",
            "          barrel       0.25      0.05      0.08        20\n",
            "          camera       0.45      0.25      0.32        20\n",
            "        car_side       0.75      0.75      0.75        20\n",
            "       dalmatian       0.59      0.50      0.54        20\n",
            "           Faces       0.50      0.85      0.63        20\n",
            "           ferry       0.52      0.55      0.54        20\n",
            "       headphone       0.50      0.25      0.33        20\n",
            "            lamp       0.00      0.00      0.00        20\n",
            "           pizza       1.00      0.10      0.18        20\n",
            "         pyramid       0.35      0.35      0.35        20\n",
            "          snoopy       0.36      0.40      0.38        20\n",
            "     soccer_ball       0.00      0.00      0.00         0\n",
            "       stop_sign       0.69      0.45      0.55        20\n",
            "      strawberry       0.41      0.35      0.38        20\n",
            "       sunflower       0.41      0.45      0.43        20\n",
            "     water_lilly       0.67      0.20      0.31        20\n",
            "   windsor_chair       0.79      0.55      0.65        20\n",
            "        yin_yang       0.69      0.55      0.61        20\n",
            "\n",
            "        accuracy                           0.41       380\n",
            "       macro avg       0.46      0.37      0.38       380\n",
            "    weighted avg       0.51      0.41      0.42       380\n",
            "\n"
          ],
          "name": "stdout"
        },
        {
          "output_type": "stream",
          "text": [
            "/usr/local/lib/python3.6/dist-packages/sklearn/metrics/_classification.py:1272: UndefinedMetricWarning: Recall and F-score are ill-defined and being set to 0.0 in labels with no true samples. Use `zero_division` parameter to control this behavior.\n",
            "  _warn_prf(average, modifier, msg_start, len(result))\n"
          ],
          "name": "stderr"
        }
      ]
    }
  ]
}