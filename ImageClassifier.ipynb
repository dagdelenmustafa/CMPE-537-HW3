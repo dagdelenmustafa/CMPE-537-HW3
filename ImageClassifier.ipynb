{
  "nbformat": 4,
  "nbformat_minor": 0,
  "metadata": {
    "colab": {
      "name": "ImageClassifier.ipynb",
      "provenance": [],
      "collapsed_sections": [
        "UxI4YL_QkILK",
        "w20PhfhNkNFF",
        "bCM_xFW4zjlR",
        "17Tlcc00v5ug",
        "RGOJNo3eiepl"
      ]
    },
    "kernelspec": {
      "name": "python3",
      "display_name": "Python 3"
    }
  },
  "cells": [
    {
      "cell_type": "markdown",
      "metadata": {
        "id": "zHjHZ_MZjjIh"
      },
      "source": [
        "#Image Classifier using Local Descriptors"
      ]
    },
    {
      "cell_type": "markdown",
      "metadata": {
        "id": "cfPoiE-bkFSW"
      },
      "source": [
        "##Imports"
      ]
    },
    {
      "cell_type": "code",
      "metadata": {
        "id": "1AgpDMmVjnOs",
        "colab": {
          "base_uri": "https://localhost:8080/"
        },
        "outputId": "7da0c714-821a-41ee-bc32-0efc12d4af4d"
      },
      "source": [
        "import numpy as np\n",
        "import pandas as pd\n",
        "import matplotlib.pyplot as plt\n",
        "import seaborn as sns\n",
        "from PIL import Image\n",
        "import cv2\n",
        "\n",
        "import pickle\n",
        "\n",
        "from imutils import paths\n",
        "from collections import Counter\n",
        "\n",
        "from imblearn.under_sampling import NearMiss\n",
        "from imblearn.under_sampling import CondensedNearestNeighbour\n",
        "from imblearn.under_sampling import TomekLinks\n",
        "from imblearn.under_sampling import EditedNearestNeighbours\n",
        "from imblearn.under_sampling import RandomUnderSampler\n",
        "from imblearn.over_sampling import RandomOverSampler \n",
        "\n",
        "from skimage import feature\n",
        "from skimage import exposure\n",
        "\n",
        "from sklearn.model_selection import GridSearchCV\n",
        "from sklearn.cluster import AgglomerativeClustering\n",
        "from sklearn.neural_network import MLPClassifier\n",
        "from sklearn.cluster import KMeans\n",
        "from sklearn.ensemble import RandomForestClassifier\n",
        "from sklearn.neighbors import KNeighborsClassifier\n",
        "from sklearn import metrics\n",
        "from sklearn.metrics import classification_report, roc_curve, auc, precision_recall_curve, confusion_matrix\n",
        "\n",
        "from google.colab import drive"
      ],
      "execution_count": 1,
      "outputs": [
        {
          "output_type": "stream",
          "text": [
            "/usr/local/lib/python3.6/dist-packages/sklearn/externals/six.py:31: FutureWarning: The module is deprecated in version 0.21 and will be removed in version 0.23 since we've dropped support for Python 2.7. Please rely on the official version of six (https://pypi.org/project/six/).\n",
            "  \"(https://pypi.org/project/six/).\", FutureWarning)\n",
            "/usr/local/lib/python3.6/dist-packages/sklearn/utils/deprecation.py:144: FutureWarning: The sklearn.neighbors.base module is  deprecated in version 0.22 and will be removed in version 0.24. The corresponding classes / functions should instead be imported from sklearn.neighbors. Anything that cannot be imported from sklearn.neighbors is now part of the private API.\n",
            "  warnings.warn(message, FutureWarning)\n"
          ],
          "name": "stderr"
        }
      ]
    },
    {
      "cell_type": "code",
      "metadata": {
        "colab": {
          "base_uri": "https://localhost:8080/"
        },
        "id": "DqFJPLqWgg-G",
        "outputId": "72c0936f-24f2-4d78-e783-ff65c381301b"
      },
      "source": [
        "drive.mount('/content/gdrive')\n",
        "root_path = 'gdrive/My Drive/Colab Notebooks/Image Classification/Caltech20/'\n",
        "\n",
        "training_dir = root_path + 'training/'\n",
        "test_dir = root_path + 'testing/'\n",
        "\n",
        "# !unzip 'gdrive/My Drive/Colab Notebooks/Image Classification/Caltech20.zip' -d 'gdrive/My Drive/Colab Notebooks/Image Classification/'"
      ],
      "execution_count": 2,
      "outputs": [
        {
          "output_type": "stream",
          "text": [
            "Mounted at /content/gdrive\n"
          ],
          "name": "stdout"
        }
      ]
    },
    {
      "cell_type": "markdown",
      "metadata": {
        "id": "UxI4YL_QkILK"
      },
      "source": [
        "##Functions and Parameters"
      ]
    },
    {
      "cell_type": "code",
      "metadata": {
        "id": "1SjXEHKZYUyf"
      },
      "source": [
        "classes = ['airplanes',\n",
        " 'anchor',\n",
        " 'background_class',\n",
        " 'barrel',\n",
        " 'camera',\n",
        " 'car_side',\n",
        " 'dalmatian',\n",
        " 'Faces',\n",
        " 'ferry',\n",
        " 'headphone',\n",
        " 'lamp',\n",
        " 'pizza',\n",
        " 'pyramid',\n",
        " 'snoopy',\n",
        " 'soccer_ball',\n",
        " 'stop_sign',\n",
        " 'strawberry',\n",
        " 'sunflower',\n",
        " 'water_lilly',\n",
        " 'windsor_chair',\n",
        " 'yin_yang']"
      ],
      "execution_count": 3,
      "outputs": []
    },
    {
      "cell_type": "code",
      "metadata": {
        "id": "CP_OLqH_PLu4"
      },
      "source": [
        "def dataset_prep(dir_path, classes):\n",
        "  \n",
        "  labels = []\n",
        "  flag = 0\n",
        "\n",
        "  for imagePath in paths.list_images(dir_path):\n",
        "    \n",
        "    image_class = imagePath.split(\"/\")[-2]\n",
        "\n",
        "    img = Image.open(imagePath).convert('L') # To open image as gray scale\n",
        "    image_array = np.asarray(img) \n",
        "\n",
        "    H = hog_calculator(image_array)\n",
        "\n",
        "    i = classes.index(image_class) + 1\n",
        "    labels.append(i)\n",
        "\n",
        "    if flag == 0:\n",
        "      flag = 1\n",
        "      descriptors = H.copy()\n",
        "    else:\n",
        "      descriptors = np.concatenate((descriptors, H), axis=0) \n",
        "\n",
        "  return labels, descriptors"
      ],
      "execution_count": 4,
      "outputs": []
    },
    {
      "cell_type": "markdown",
      "metadata": {
        "id": "w20PhfhNkNFF"
      },
      "source": [
        "###HOG Descriptor"
      ]
    },
    {
      "cell_type": "code",
      "metadata": {
        "id": "IT0nyutDznsS"
      },
      "source": [
        "def hog_calculator(image_array, block_size = (2, 2), cell_size = (8, 8), s=(64, 128)):\n",
        "\n",
        "  local_descriptors = []\n",
        "\n",
        "  n = int(s[0]/cell_size[0]) # number of cells in a row\n",
        "  m = int(s[1]/cell_size[1]) # number of cells in a column\n",
        "\n",
        "  # First step is to resize the image into 128x256 size\n",
        "  resized_image = cv2.resize(image_array, s)\n",
        "  im = Image.fromarray(resized_image)\n",
        "\n",
        "  histogram_matrix = np.zeros((n, m, 18))\n",
        "\n",
        "  for j in range(m):\n",
        "    for i in range(n):\n",
        "\n",
        "      # Boundaries of a cell\n",
        "      cell_x_0 = i*cell_size[0]\n",
        "      cell_x_1 = (i+1)*cell_size[0]\n",
        "      cell_y_0 = j*cell_size[1]\n",
        "      cell_y_1 = (j+1)*cell_size[1]\n",
        "\n",
        "      cell = resized_image[cell_y_0:cell_y_1, cell_x_0:cell_x_1]\n",
        "      magnitudes = np.zeros(cell.shape)\n",
        "      orients = np.zeros(cell.shape)\n",
        "\n",
        "      cell = cell.astype(np.int32)\n",
        "      cell_row, cell_col = cell.shape\n",
        "\n",
        "      cell = np.pad(cell, 1 , mode='constant')\n",
        "\n",
        "      # Compute gradients and orientations\n",
        "      for k in range(1, cell_row+1):\n",
        "        for l in range(1, cell_col+1):\n",
        "\n",
        "          y_grad = cell[k+1,l] - cell[k-1, l]\n",
        "          x_grad = cell[k, l+1] - cell[k, l-1]\n",
        "          magnitudes[k-1,l-1] = np.sqrt(x_grad**2 + y_grad**2)\n",
        "          orients[k-1,l-1] = np.degrees(np.arctan2(y_grad, x_grad)) + 180\n",
        "\n",
        "      bins = np.arange(0, 360, 20) \n",
        "      hist = np.zeros(bins.shape)\n",
        "\n",
        "      # Turning gradients and orientations into histogram\n",
        "      for row in range(cell_row):\n",
        "        for col in range(cell_col):\n",
        "\n",
        "          angle = orients[row,col]\n",
        "          mag = magnitudes[row,col]\n",
        "\n",
        "          position = np.argmax(bins > angle)\n",
        "\n",
        "          hist[position-1] += ((bins[position] - angle)/20)*mag\n",
        "          hist[position] += ((angle - bins[position-1])/20)*mag\n",
        "\n",
        "      histogram_matrix[i, j] = hist\n",
        "\n",
        "  for i in range(n+1-block_size[0]): # Number of blocks per row\n",
        "    for j in range(m+1-block_size[1]): # Number of blocks per column\n",
        "      block_array = np.concatenate((histogram_matrix[i, j],histogram_matrix[i+1, j], histogram_matrix[i, j+1], histogram_matrix[i+1, j+1]))\n",
        "      norm = np.linalg.norm(block_array)\n",
        "      if norm != 0:\n",
        "        block_array = block_array/norm\n",
        "      local_descriptors.append(block_array)\n",
        "\n",
        "  return np.array(local_descriptors)"
      ],
      "execution_count": 5,
      "outputs": []
    },
    {
      "cell_type": "code",
      "metadata": {
        "id": "WOZU5v1C0o4o"
      },
      "source": [
        "  # imagePath = training_dir + 'strawberry/image_0130.jpg'\n",
        "  # img = Image.open(imagePath).convert('L')\n",
        "  # image_array = np.asarray(img) \n",
        "  # print(image_array.shape)\n",
        "  # local_descriptors = hog_calculator(image_array)"
      ],
      "execution_count": 6,
      "outputs": []
    },
    {
      "cell_type": "code",
      "metadata": {
        "id": "t18oLpyyQOny"
      },
      "source": [
        "# local_descriptors.shape"
      ],
      "execution_count": 7,
      "outputs": []
    },
    {
      "cell_type": "code",
      "metadata": {
        "id": "R_PP6ue_5uNU"
      },
      "source": [
        "# plt.imshow(img)\n",
        "# plt.show()"
      ],
      "execution_count": 8,
      "outputs": []
    },
    {
      "cell_type": "markdown",
      "metadata": {
        "id": "bCM_xFW4zjlR"
      },
      "source": [
        "###HOG Visualization"
      ]
    },
    {
      "cell_type": "code",
      "metadata": {
        "id": "YbdPr97CARV0"
      },
      "source": [
        "# H, hogImage = feature.hog(logo, orientations=9, \n",
        "#                 pixels_per_cell=(8, 8), \n",
        "#                 cells_per_block=(2, 2), \n",
        "#                 transform_sqrt=True, \n",
        "#                 block_norm=\"L1\",\n",
        "#                 visualize=True)\n",
        "\n",
        "# hogImage = exposure.rescale_intensity(hogImage, out_range=(0, 255))\n",
        "# hogImage = hogImage.astype(\"uint8\")"
      ],
      "execution_count": 9,
      "outputs": []
    },
    {
      "cell_type": "code",
      "metadata": {
        "id": "Q8j4HVX5AspS"
      },
      "source": [
        "# plt.imshow(hogImage)\n",
        "# plt.show()"
      ],
      "execution_count": 10,
      "outputs": []
    },
    {
      "cell_type": "markdown",
      "metadata": {
        "id": "dwMGFhqjkXkk"
      },
      "source": [
        "###Dictionary - Hierarchical Clustering & K-means"
      ]
    },
    {
      "cell_type": "code",
      "metadata": {
        "id": "e5O0qC_fdj4s"
      },
      "source": [
        "def hierarchical_clustering(descriptors, cluster_size):\n",
        "  cluster = AgglomerativeClustering(n_clusters=cluster_size, affinity='euclidean', linkage='ward')\n",
        "  cluster.fit_predict(descriptors)\n",
        "  return cluster.labels_"
      ],
      "execution_count": 11,
      "outputs": []
    },
    {
      "cell_type": "code",
      "metadata": {
        "id": "AYe4i144ROle"
      },
      "source": [
        "def kmeans_clustering(descriptors, cluster_size, seed):\n",
        "  kmeans = KMeans(n_clusters=cluster_size, max_iter=100,  random_state=seed)\n",
        "  kmeans.fit(descriptors)\n",
        "  return kmeans, kmeans.labels_"
      ],
      "execution_count": 12,
      "outputs": []
    },
    {
      "cell_type": "markdown",
      "metadata": {
        "id": "RWfMCnv3gtwm"
      },
      "source": [
        "###Quantization"
      ]
    },
    {
      "cell_type": "code",
      "metadata": {
        "id": "9DPwt67hgwdx"
      },
      "source": [
        "def bag_of_visual_words(clusters, cluster_size, descriptor_size):\n",
        "\n",
        "  X = []\n",
        "  n = clusters.shape[0]\n",
        "  image_number = int(n/descriptor_size)\n",
        "\n",
        "  for i in range(image_number):\n",
        "    hist = np.zeros(cluster_size)\n",
        "    clusters_i = clusters[i*descriptor_size:(i+1)*descriptor_size] \n",
        "\n",
        "    for j in range(cluster_size):\n",
        "      hist[j]  = np.count_nonzero(clusters_i == j)\n",
        "      \n",
        "    hist = hist/descriptor_size\n",
        "    X.append(hist)\n",
        "\n",
        "  return X"
      ],
      "execution_count": 13,
      "outputs": []
    },
    {
      "cell_type": "markdown",
      "metadata": {
        "id": "hRloiLgDRtPY"
      },
      "source": [
        "###Parameters"
      ]
    },
    {
      "cell_type": "code",
      "metadata": {
        "id": "o9th8RZYATeg"
      },
      "source": [
        "seed = 1234\n",
        "cluster_size = 50\n",
        "image_resize = (64, 128)\n",
        "descriptor_size = int((image_resize[0]/8-1)*(image_resize[1]/8-1))"
      ],
      "execution_count": 14,
      "outputs": []
    },
    {
      "cell_type": "markdown",
      "metadata": {
        "id": "BhMxWTDVMfIA"
      },
      "source": [
        "##Dataset Prep"
      ]
    },
    {
      "cell_type": "markdown",
      "metadata": {
        "id": "yaoGvoZdXy3K"
      },
      "source": [
        "###Training Data"
      ]
    },
    {
      "cell_type": "code",
      "metadata": {
        "id": "wGZwUTRjMhRs"
      },
      "source": [
        "labels, descriptors = dataset_prep(training_dir, classes)"
      ],
      "execution_count": 15,
      "outputs": []
    },
    {
      "cell_type": "code",
      "metadata": {
        "id": "8Zv_rKVXQ6GS"
      },
      "source": [
        "kmeans, clusters = kmeans_clustering(descriptors, cluster_size, seed)"
      ],
      "execution_count": 16,
      "outputs": []
    },
    {
      "cell_type": "code",
      "metadata": {
        "id": "OTrcRjD2he2G"
      },
      "source": [
        "X = bag_of_visual_words(clusters, cluster_size, descriptor_size)\n",
        "y_train = labels"
      ],
      "execution_count": 54,
      "outputs": []
    },
    {
      "cell_type": "code",
      "metadata": {
        "colab": {
          "base_uri": "https://localhost:8080/"
        },
        "id": "jXAwOMvoQGHu",
        "outputId": "939236e6-8291-4485-dfba-7cc5fd8a11c8"
      },
      "source": [
        "counter = Counter(labels)\n",
        "print(counter)"
      ],
      "execution_count": 55,
      "outputs": [
        {
          "output_type": "stream",
          "text": [
            "Counter({1: 780, 15: 640, 5: 600, 19: 555, 17: 520, 6: 515, 14: 485, 7: 470, 9: 470, 3: 467, 18: 454, 16: 440, 11: 410, 8: 405, 13: 370, 20: 360, 4: 270, 10: 203, 21: 200, 2: 165, 12: 165})\n"
          ],
          "name": "stdout"
        }
      ]
    },
    {
      "cell_type": "code",
      "metadata": {
        "id": "zEMDn5hMwF5i"
      },
      "source": [
        "under_str = {1:400, 3:400, 5: 400, 6:400, 7:400, 9:400, 14:400, 15:400, 17:400, 19:400}\n",
        "# over_str = {2:500, 4:500, 10:500, 12:400}"
      ],
      "execution_count": 42,
      "outputs": []
    },
    {
      "cell_type": "code",
      "metadata": {
        "colab": {
          "base_uri": "https://localhost:8080/"
        },
        "id": "I3nq7YnLJgWc",
        "outputId": "a13b8403-ef17-4a8f-82e7-e3ff4624caba"
      },
      "source": [
        "# oversample = RandomOverSampler(sampling_strategy=over_str)\n",
        "# X_over, y_over = oversample.fit_resample(X, labels)"
      ],
      "execution_count": 47,
      "outputs": [
        {
          "output_type": "stream",
          "text": [
            "/usr/local/lib/python3.6/dist-packages/sklearn/utils/deprecation.py:87: FutureWarning: Function safe_indexing is deprecated; safe_indexing is deprecated in version 0.22 and will be removed in version 0.24.\n",
            "  warnings.warn(msg, category=FutureWarning)\n"
          ],
          "name": "stderr"
        }
      ]
    },
    {
      "cell_type": "code",
      "metadata": {
        "colab": {
          "base_uri": "https://localhost:8080/"
        },
        "id": "S2l3cNECQMg9",
        "outputId": "a08368c5-76f1-4813-c30f-fa0873090e6b"
      },
      "source": [
        "# undersample = NearMiss(version=1, n_neighbors=3)\n",
        "# undersample = CondensedNearestNeighbour(n_neighbors=3)\n",
        "# undersample = TomekLinks(sampling_strategy='majority')\n",
        "undersample = RandomUnderSampler(sampling_strategy=under_str)\n",
        "\n",
        "X_train, y_train = undersample.fit_resample(X, labels)"
      ],
      "execution_count": 56,
      "outputs": [
        {
          "output_type": "stream",
          "text": [
            "/usr/local/lib/python3.6/dist-packages/sklearn/utils/deprecation.py:87: FutureWarning: Function safe_indexing is deprecated; safe_indexing is deprecated in version 0.22 and will be removed in version 0.24.\n",
            "  warnings.warn(msg, category=FutureWarning)\n"
          ],
          "name": "stderr"
        }
      ]
    },
    {
      "cell_type": "code",
      "metadata": {
        "colab": {
          "base_uri": "https://localhost:8080/"
        },
        "id": "IpriKTzfVAPJ",
        "outputId": "971a19a2-5169-46be-c3d3-7f42ca8da9d4"
      },
      "source": [
        "counter_undersampled = Counter(y_train)\n",
        "for i in range(1,22):\n",
        "  print(i, classes[i-1], '\\t',counter_undersampled[i])"
      ],
      "execution_count": 58,
      "outputs": [
        {
          "output_type": "stream",
          "text": [
            "1 airplanes \t 400\n",
            "2 anchor \t 165\n",
            "3 background_class \t 400\n",
            "4 barrel \t 270\n",
            "5 camera \t 400\n",
            "6 car_side \t 400\n",
            "7 dalmatian \t 400\n",
            "8 Faces \t 405\n",
            "9 ferry \t 400\n",
            "10 headphone \t 203\n",
            "11 lamp \t 410\n",
            "12 pizza \t 165\n",
            "13 pyramid \t 370\n",
            "14 snoopy \t 400\n",
            "15 soccer_ball \t 400\n",
            "16 stop_sign \t 440\n",
            "17 strawberry \t 400\n",
            "18 sunflower \t 400\n",
            "19 water_lilly \t 400\n",
            "20 windsor_chair \t 360\n",
            "21 yin_yang \t 200\n"
          ],
          "name": "stdout"
        }
      ]
    },
    {
      "cell_type": "code",
      "metadata": {
        "colab": {
          "base_uri": "https://localhost:8080/"
        },
        "id": "kN8mQ4IgjnbA",
        "outputId": "7b24a9a8-884a-41ef-9b5f-bb5d86a3b173"
      },
      "source": [
        "s = set(counter_undersampled)\n",
        "print(s)"
      ],
      "execution_count": 59,
      "outputs": [
        {
          "output_type": "stream",
          "text": [
            "{1, 2, 3, 4, 5, 6, 7, 8, 9, 10, 11, 12, 13, 14, 15, 16, 17, 18, 19, 20, 21}\n"
          ],
          "name": "stdout"
        }
      ]
    },
    {
      "cell_type": "markdown",
      "metadata": {
        "id": "-P-zOXBmX1pN"
      },
      "source": [
        "###Test Data"
      ]
    },
    {
      "cell_type": "code",
      "metadata": {
        "id": "je_xdtjOTZsm"
      },
      "source": [
        "y_test , X_test = dataset_prep(test_dir, classes)"
      ],
      "execution_count": 26,
      "outputs": []
    },
    {
      "cell_type": "code",
      "metadata": {
        "id": "_Bma7MkCYHMG"
      },
      "source": [
        "test_clusters = kmeans.predict(X_test)"
      ],
      "execution_count": 27,
      "outputs": []
    },
    {
      "cell_type": "code",
      "metadata": {
        "id": "YU1dVfW5YPIf"
      },
      "source": [
        "X_test = bag_of_visual_words(test_clusters, cluster_size, descriptor_size)"
      ],
      "execution_count": 28,
      "outputs": []
    },
    {
      "cell_type": "markdown",
      "metadata": {
        "id": "nZilR_1wkeRn"
      },
      "source": [
        "##Classifier - Random Forest"
      ]
    },
    {
      "cell_type": "code",
      "metadata": {
        "colab": {
          "base_uri": "https://localhost:8080/"
        },
        "id": "XfbhovlqP5bv",
        "outputId": "ed535952-fc56-4c28-fb12-0ce0cef1b1b0"
      },
      "source": [
        "modelRF = RandomForestClassifier(criterion='gini', \n",
        "                                 oob_score=True, \n",
        "                                 random_state=seed, \n",
        "                                 bootstrap= True, \n",
        "                                 max_depth=50, \n",
        "                                 max_features='auto', \n",
        "                                 min_samples_leaf= 1, \n",
        "                                 min_samples_split=5, \n",
        "                                 n_estimators=800)\n",
        "modelRF.fit(X_train, y_train)"
      ],
      "execution_count": 81,
      "outputs": [
        {
          "output_type": "execute_result",
          "data": {
            "text/plain": [
              "RandomForestClassifier(bootstrap=True, ccp_alpha=0.0, class_weight=None,\n",
              "                       criterion='gini', max_depth=50, max_features='auto',\n",
              "                       max_leaf_nodes=None, max_samples=None,\n",
              "                       min_impurity_decrease=0.0, min_impurity_split=None,\n",
              "                       min_samples_leaf=1, min_samples_split=5,\n",
              "                       min_weight_fraction_leaf=0.0, n_estimators=800,\n",
              "                       n_jobs=None, oob_score=True, random_state=1234,\n",
              "                       verbose=0, warm_start=False)"
            ]
          },
          "metadata": {
            "tags": []
          },
          "execution_count": 81
        }
      ]
    },
    {
      "cell_type": "code",
      "metadata": {
        "colab": {
          "base_uri": "https://localhost:8080/"
        },
        "id": "8Mp4djxNWJDk",
        "outputId": "04d9766c-5d8a-4318-f5f2-a1edb5e95195"
      },
      "source": [
        "print(modelRF.score(X_test, y_test))\n",
        "print(modelRF.oob_score_)"
      ],
      "execution_count": 82,
      "outputs": [
        {
          "output_type": "stream",
          "text": [
            "0.21842105263157896\n",
            "0.24174336762317272\n"
          ],
          "name": "stdout"
        }
      ]
    },
    {
      "cell_type": "code",
      "metadata": {
        "id": "nvIjmJYEFBtQ"
      },
      "source": [
        "# parameters = {'criterion' : ['gini'],\n",
        "#               'bootstrap': [True],\n",
        "#               'max_depth': [10, 20, 40, 80, None],\n",
        "#               'max_features': ['auto', 'sqrt'],\n",
        "#               'min_samples_leaf': [1, 2, 4],\n",
        "#               'min_samples_split': [2, 5, 10],\n",
        "#               'n_estimators': [100, 200, 400]}\n",
        "\n",
        "# RF = RandomForestClassifier(random_state=seed)"
      ],
      "execution_count": 31,
      "outputs": []
    },
    {
      "cell_type": "code",
      "metadata": {
        "id": "MTLBUghIFCbd"
      },
      "source": [
        "# gridsearch = GridSearchCV(RF, parameters, refit='AUC')\n",
        "# gridsearch.fit(X_train, y_train)"
      ],
      "execution_count": 32,
      "outputs": []
    },
    {
      "cell_type": "code",
      "metadata": {
        "id": "rA-pyVFfp3QE"
      },
      "source": [
        "# parameters = {'criterion' : ['gini'],\n",
        "#               'bootstrap': [True],\n",
        "#               'max_depth': [5, 10, 50, 100],\n",
        "#               'n_estimators': [400, 600, 800]}\n",
        "\n",
        "# RF = RandomForestClassifier(random_state=seed)"
      ],
      "execution_count": 78,
      "outputs": []
    },
    {
      "cell_type": "code",
      "metadata": {
        "colab": {
          "base_uri": "https://localhost:8080/"
        },
        "id": "XGgsVoNnp6hn",
        "outputId": "64e514b3-57c1-4cde-d171-947ea868bfcc"
      },
      "source": [
        "# gridsearch = GridSearchCV(RF, parameters, refit='f1_macro')\n",
        "# gridsearch.fit(X_train, y_train)"
      ],
      "execution_count": 79,
      "outputs": [
        {
          "output_type": "execute_result",
          "data": {
            "text/plain": [
              "GridSearchCV(cv=None, error_score=nan,\n",
              "             estimator=RandomForestClassifier(bootstrap=True, ccp_alpha=0.0,\n",
              "                                              class_weight=None,\n",
              "                                              criterion='gini', max_depth=None,\n",
              "                                              max_features='auto',\n",
              "                                              max_leaf_nodes=None,\n",
              "                                              max_samples=None,\n",
              "                                              min_impurity_decrease=0.0,\n",
              "                                              min_impurity_split=None,\n",
              "                                              min_samples_leaf=1,\n",
              "                                              min_samples_split=2,\n",
              "                                              min_weight_fraction_leaf=0.0,\n",
              "                                              n_estimators=100, n_jobs=None,\n",
              "                                              oob_score=False,\n",
              "                                              random_state=1234, verbose=0,\n",
              "                                              warm_start=False),\n",
              "             iid='deprecated', n_jobs=None,\n",
              "             param_grid={'bootstrap': [True], 'criterion': ['gini'],\n",
              "                         'max_depth': [5, 10, 50, 100],\n",
              "                         'n_estimators': [400, 600, 800]},\n",
              "             pre_dispatch='2*n_jobs', refit='f1_macro',\n",
              "             return_train_score=False, scoring=None, verbose=0)"
            ]
          },
          "metadata": {
            "tags": []
          },
          "execution_count": 79
        }
      ]
    },
    {
      "cell_type": "code",
      "metadata": {
        "colab": {
          "base_uri": "https://localhost:8080/"
        },
        "id": "4sSzCe5BFlvL",
        "outputId": "de79a1f6-b710-475c-d8d3-b1cf2f0cb689"
      },
      "source": [
        "# gridsearch.best_params_"
      ],
      "execution_count": 80,
      "outputs": [
        {
          "output_type": "execute_result",
          "data": {
            "text/plain": [
              "{'bootstrap': True, 'criterion': 'gini', 'max_depth': 50, 'n_estimators': 800}"
            ]
          },
          "metadata": {
            "tags": []
          },
          "execution_count": 80
        }
      ]
    },
    {
      "cell_type": "markdown",
      "metadata": {
        "id": "7383A1SBkmEE"
      },
      "source": [
        "###Performance Evaluation - RF"
      ]
    },
    {
      "cell_type": "code",
      "metadata": {
        "colab": {
          "base_uri": "https://localhost:8080/",
          "height": 344
        },
        "id": "tpGzIftfWVgZ",
        "outputId": "aea5fbf0-6a61-4e2b-8d9e-a67e2f51c4db"
      },
      "source": [
        "RF_predictions = modelRF.predict(X_test)\n",
        "hmap = sns.heatmap(metrics.confusion_matrix(y_test, RF_predictions) , cmap='Blues', xticklabels=classes, yticklabels=classes)"
      ],
      "execution_count": 83,
      "outputs": [
        {
          "output_type": "display_data",
          "data": {
            "image/png": "[encoded data removed]",
            "text/plain": [
              "<Figure size 432x288 with 2 Axes>"
            ]
          },
          "metadata": {
            "tags": [],
            "needs_background": "light"
          }
        }
      ]
    },
    {
      "cell_type": "code",
      "metadata": {
        "colab": {
          "base_uri": "https://localhost:8080/"
        },
        "id": "wEMFzpi-bvQk",
        "outputId": "8e1dcc80-25fb-4235-caa3-d29c1bf85327"
      },
      "source": [
        "print(classification_report(y_test, RF_predictions, target_names=classes))"
      ],
      "execution_count": 84,
      "outputs": [
        {
          "output_type": "stream",
          "text": [
            "                  precision    recall  f1-score   support\n",
            "\n",
            "       airplanes       0.29      0.45      0.35        20\n",
            "          anchor       0.50      0.15      0.23        20\n",
            "background_class       0.00      0.00      0.00         0\n",
            "          barrel       0.00      0.00      0.00        20\n",
            "          camera       0.21      0.15      0.18        20\n",
            "        car_side       0.22      0.55      0.32        20\n",
            "       dalmatian       0.40      0.20      0.27        20\n",
            "           Faces       0.21      0.45      0.29        20\n",
            "           ferry       0.14      0.25      0.18        20\n",
            "       headphone       0.43      0.30      0.35        20\n",
            "            lamp       0.00      0.00      0.00        20\n",
            "           pizza       0.00      0.00      0.00        20\n",
            "         pyramid       0.27      0.30      0.29        20\n",
            "          snoopy       0.23      0.50      0.31        20\n",
            "     soccer_ball       0.00      0.00      0.00         0\n",
            "       stop_sign       0.33      0.25      0.29        20\n",
            "      strawberry       0.07      0.05      0.06        20\n",
            "       sunflower       0.00      0.00      0.00        20\n",
            "     water_lilly       0.00      0.00      0.00        20\n",
            "   windsor_chair       0.10      0.10      0.10        20\n",
            "        yin_yang       1.00      0.45      0.62        20\n",
            "\n",
            "        accuracy                           0.22       380\n",
            "       macro avg       0.21      0.20      0.18       380\n",
            "    weighted avg       0.23      0.22      0.20       380\n",
            "\n"
          ],
          "name": "stdout"
        },
        {
          "output_type": "stream",
          "text": [
            "/usr/local/lib/python3.6/dist-packages/sklearn/metrics/_classification.py:1272: UndefinedMetricWarning: Precision and F-score are ill-defined and being set to 0.0 in labels with no predicted samples. Use `zero_division` parameter to control this behavior.\n",
            "  _warn_prf(average, modifier, msg_start, len(result))\n",
            "/usr/local/lib/python3.6/dist-packages/sklearn/metrics/_classification.py:1272: UndefinedMetricWarning: Recall and F-score are ill-defined and being set to 0.0 in labels with no true samples. Use `zero_division` parameter to control this behavior.\n",
            "  _warn_prf(average, modifier, msg_start, len(result))\n"
          ],
          "name": "stderr"
        }
      ]
    },
    {
      "cell_type": "markdown",
      "metadata": {
        "id": "RGOJNo3eiepl"
      },
      "source": [
        "##MLP"
      ]
    },
    {
      "cell_type": "code",
      "metadata": {
        "colab": {
          "base_uri": "https://localhost:8080/"
        },
        "id": "lc_L3K3oifyv",
        "outputId": "22f41541-ea7d-438a-84b5-c17468dc33fa"
      },
      "source": [
        "mlp = MLPClassifier(random_state=1, max_iter=300).fit(X_train, y_train)"
      ],
      "execution_count": 66,
      "outputs": [
        {
          "output_type": "stream",
          "text": [
            "/usr/local/lib/python3.6/dist-packages/sklearn/neural_network/_multilayer_perceptron.py:571: ConvergenceWarning: Stochastic Optimizer: Maximum iterations (300) reached and the optimization hasn't converged yet.\n",
            "  % self.max_iter, ConvergenceWarning)\n"
          ],
          "name": "stderr"
        }
      ]
    },
    {
      "cell_type": "code",
      "metadata": {
        "colab": {
          "base_uri": "https://localhost:8080/"
        },
        "id": "rFAHfUA6iqnA",
        "outputId": "800e8085-0a57-4829-f6ee-ce6cafcfbf57"
      },
      "source": [
        "mlp.score(X_test, y_test)"
      ],
      "execution_count": 67,
      "outputs": [
        {
          "output_type": "execute_result",
          "data": {
            "text/plain": [
              "0.22105263157894736"
            ]
          },
          "metadata": {
            "tags": []
          },
          "execution_count": 67
        }
      ]
    },
    {
      "cell_type": "code",
      "metadata": {
        "colab": {
          "base_uri": "https://localhost:8080/",
          "height": 348
        },
        "id": "_a1r9YxErYLP",
        "outputId": "9a9c1fc6-9e09-4b70-b45c-9b7da0e39691"
      },
      "source": [
        "MLP_predictions = mlp.predict(X_test)\n",
        "hmap = sns.heatmap(metrics.confusion_matrix(y_test, MLP_predictions) , cmap='Blues', xticklabels=classes, yticklabels=classes)"
      ],
      "execution_count": 68,
      "outputs": [
        {
          "output_type": "display_data",
          "data": {
            "image/png": "[encoded data removed]",
            "text/plain": [
              "<Figure size 432x288 with 2 Axes>"
            ]
          },
          "metadata": {
            "tags": [],
            "needs_background": "light"
          }
        }
      ]
    },
    {
      "cell_type": "code",
      "metadata": {
        "colab": {
          "base_uri": "https://localhost:8080/"
        },
        "id": "HDzFM-FYrmIV",
        "outputId": "8c383e74-f332-4df9-f055-51b8d25159b9"
      },
      "source": [
        "print(classification_report(y_test, MLP_predictions, target_names=classes))"
      ],
      "execution_count": 72,
      "outputs": [
        {
          "output_type": "stream",
          "text": [
            "                  precision    recall  f1-score   support\n",
            "\n",
            "       airplanes       0.22      0.40      0.29        20\n",
            "          anchor       0.33      0.10      0.15        20\n",
            "background_class       0.00      0.00      0.00         0\n",
            "          barrel       0.00      0.00      0.00        20\n",
            "          camera       0.28      0.25      0.26        20\n",
            "        car_side       0.27      0.50      0.35        20\n",
            "       dalmatian       0.00      0.00      0.00        20\n",
            "           Faces       0.28      0.70      0.40        20\n",
            "           ferry       0.10      0.15      0.12        20\n",
            "       headphone       0.43      0.30      0.35        20\n",
            "            lamp       0.00      0.00      0.00        20\n",
            "           pizza       0.50      0.10      0.17        20\n",
            "         pyramid       0.25      0.25      0.25        20\n",
            "          snoopy       0.32      0.50      0.39        20\n",
            "     soccer_ball       0.00      0.00      0.00         0\n",
            "       stop_sign       0.25      0.30      0.27        20\n",
            "      strawberry       0.00      0.00      0.00        20\n",
            "       sunflower       0.00      0.00      0.00        20\n",
            "     water_lilly       0.08      0.05      0.06        20\n",
            "   windsor_chair       0.04      0.05      0.05        20\n",
            "        yin_yang       0.79      0.55      0.65        20\n",
            "\n",
            "        accuracy                           0.22       380\n",
            "       macro avg       0.20      0.20      0.18       380\n",
            "    weighted avg       0.22      0.22      0.20       380\n",
            "\n"
          ],
          "name": "stdout"
        },
        {
          "output_type": "stream",
          "text": [
            "/usr/local/lib/python3.6/dist-packages/sklearn/metrics/_classification.py:1272: UndefinedMetricWarning: Recall and F-score are ill-defined and being set to 0.0 in labels with no true samples. Use `zero_division` parameter to control this behavior.\n",
            "  _warn_prf(average, modifier, msg_start, len(result))\n"
          ],
          "name": "stderr"
        }
      ]
    }
  ]
}